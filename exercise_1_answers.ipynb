{
 "cells": [
  {
   "cell_type": "markdown",
   "id": "d3f420b4-5efd-4958-a041-972e252ed5a8",
   "metadata": {},
   "source": [
    "# Practical 1: Undertanding seismic models and the relationships between wavelets and resolution\n",
    "\n",
    "In this exercise you will explore how geological features appear in seismic reflection data and how their appearance differs with density, P-wave velocity, wavelet phase and frequency. You will also investigate how seismic reflection images will degrade with depth. \n",
    "\n",
    "In this exercise you are simulating a \"zero-offset\" seismic experiment where sources and receivers are located at the same place just below the Earth's surface so you are only dealing with \"normal-incidence\" reflections. \n",
    "\n",
    "As you move through the exercise there will be questions to think about and discussion with your peers is encouraged. Ultimately, at the end of the exercise you will be asked to determine what type of source should be used in a geotechnical survey for wind-turbine pile installation. \n",
    "\n",
    "**Learning objectives**:\n",
    "1) understand that seismic reflection profiles are produced by the convolution of wavelets reflected from different geological boundaries\n",
    "2) Understand how reflection coefficients and velocity control the amplitude and depth of reflection in seismic profiles\n",
    "3) Understand seismic vertical resolution and the limitations of the seismic reflection method"
   ]
  },
  {
   "cell_type": "markdown",
   "id": "5ad04d89-cedc-4b0a-9491-be77976abb4d",
   "metadata": {},
   "source": [
    "## Code Metadata\n",
    "\n",
    "\n",
    "| Library | Version | function |\n",
    "| --- | --- | --- |\n",
    "| **numpy** | 1.20.3 | facilitates efficient work with arrays |\n",
    "| [**segyio**](https://segyio.readthedocs.io/en/latest/segyio.html) | 1.9.3 | allows interactions with segy datafiles |\n",
    "| [**bruges**](https://github.com/agile-geoscience/bruges) | 0.4.4 | prewritten geophysics functions for modelling and processing seismic reflection data |\n",
    "| [**mayavi**](https://docs.enthought.com/mayavi/mayavi/) | 4.7.4 | 3D scientific data visualization and plotting in python |\n",
    "| **scipy** | 1.7.2 | provides algorithms for optimization, integration, interpolation, etc.. |\n",
    "| **scikit-image** | 0.18.3 | collection of algorithms for image processing |\n",
    "| **matplotlib** | 3.5.0 | comprehensive library for creating static, animated, and interactive visualizations |\n",
    "| **opencv**| 4.5.2 | Computer Vision library,|\n",
    "\n",
    "The libraries can be found under the environments.yml and requirements.txt file for efficient setup provided within the repository, see README.md for further setup information"
   ]
  },
  {
   "cell_type": "code",
   "execution_count": 1,
   "id": "72c0398e-1d7f-45d9-80f7-219b010dc840",
   "metadata": {},
   "outputs": [],
   "source": [
    "# import required libraries\n",
    "from skimage.measure import label\n",
    "import matplotlib.pyplot as plt\n",
    "import matplotlib.image as mpimg\n",
    "import numpy as np\n",
    "import scipy as sp\n",
    "import bruges\n",
    "import seismic.additional_functions as seis # library created for the purpose of this lecture series, explore further if interested!"
   ]
  },
  {
   "cell_type": "markdown",
   "id": "dc0fdc74-b12e-476a-b197-0b17623de480",
   "metadata": {},
   "source": [
    "## 1.1 Read in a geological model\n",
    "\n",
    "In this section you will read in a .png image which shows 4 geological units, one of them being a \"thin-wedge\". Geologically speaking, this wedge could be one side of a channel which pinches out to the left. Channels are important in geotechnical assessments as their physical properties may be quite different to the surrounding host rock/sediments. Channels often contain higher-porosity sediments and can be surrounded by mud over-bank deposits which are impermeable. This means channels can be reservoirs for fluids, including gas which could be a hazard in geotechnical works.\n",
    "This \"thin-wedge\" model is a classic model in seismic reflection imaging in order to give practitioners an appreciation of seismic resolution (ie the thinnest a geological feature could be such that the top and base are still imaged)."
   ]
  },
  {
   "cell_type": "code",
   "execution_count": null,
   "id": "f4f85665-f4d6-4555-b992-5e09333ab2dc",
   "metadata": {},
   "outputs": [],
   "source": [
    "# read in image to numpy array\n",
    "img = seis.read_img('wedge.png', visualise = False) \n",
    "print (type(img))\n",
    "\n",
    "# identify each geological section\n",
    "model_bound = label(img)\n",
    "\n",
    "# remove imaginary boundary separations seen in img\n",
    "model = seis.remove_bounds(model_bound, visualise = False) \n",
    "\n",
    "# rescale axis to metres\n",
    "depth = 100\n",
    "model_scaled = sp.ndimage.zoom(model, 1/(np.shape(model)[0]/depth), order=0)"
   ]
  },
  {
   "cell_type": "code",
   "execution_count": null,
   "id": "0a5deba5-5522-452f-b14c-9d12fea90487",
   "metadata": {},
   "outputs": [],
   "source": [
    "plt.imshow(model_scaled, interpolation='nearest')\n",
    "plt.title('scaled geological model')\n",
    "plt.ylabel('depth (m) / index')\n",
    "plt.xlabel('trace')\n",
    "plt.colorbar(label='geological unit')\n",
    "plt.show()"
   ]
  },
  {
   "cell_type": "markdown",
   "id": "9ead711e-80ab-4da8-b52c-6b26f8ed5b06",
   "metadata": {},
   "source": [
    "Please note that we are using indices as a proxy to depth! This will lead to a different absolute behaviour relative to the real scenario however it still acts as a great proxy to understanding real seismic behaviour.\n",
    "\n",
    "We will call our data plotted above $D(z)$, currently our data is the same our idealised Earth model which we will name $E(z)$. \n",
    "$$ D(z) = E(z) $$\n",
    "\n",
    "Throughout this lecture we will slowly build the complexity of this relationship to keep track of how our seismic section is produced mathematically"
   ]
  },
  {
   "cell_type": "markdown",
   "id": "0bd71008-9b8b-4643-ad0b-86e7e7b6326f",
   "metadata": {},
   "source": [
    "## 1.2 Density and velocity\n",
    "\n",
    "P-wave velocity and density both generally increase with depth as sediments/rocks get put under-pressure and pore-spaces and fractures close. There are lithologies which are an exception to this rule- for example, salt has a very low density and high P-wave velocity (4 km/s) despite burial depth. However, for clastic sediments (eroded fragments of rock) that we are likely to find in areas of wind-turbine exploration the density and velocity are expected to increase with depth. However, as noted above, sandy channels could have a lower-velcoity than the surrounding sediments if they are filled with gas.\n",
    "\n",
    "In the first part of this exercise you are provided with velocities and densities and you will calculate acoustic impedance. We will call this \"Wedge model 1\"."
   ]
  },
  {
   "cell_type": "markdown",
   "id": "e13c20a4-881a-4730-92d9-843a2a1c7b5b",
   "metadata": {},
   "source": [
    "**QUESTION: What is the unit of acoustic impedance? Does it look familiar to you?**"
   ]
  },
  {
   "cell_type": "markdown",
   "id": "926abcd0-a199-4fcc-a258-6ae822eb19c4",
   "metadata": {},
   "source": [
    "[Answer] $ \\frac{Kg}{m ^{2} s}$ . This is similar to he unit of pressure ($ N == Kg \\frac{m}{s ^{2}} , Pa == \\frac{N}{m^{2}} == \\frac{kg}{m s ^{2}}$\n",
    "\n",
    "So, the unit of acoustic impedance can also be written as:\n",
    "\n",
    "$$ Pa \\frac{s}{m} $$"
   ]
  },
  {
   "cell_type": "code",
   "execution_count": null,
   "id": "0d83a36f-0adc-426b-a150-752f82996f21",
   "metadata": {},
   "outputs": [],
   "source": [
    "# define p-wave velocity and density of each section\n",
    "properties_1 = np.array([[2700, 2750],  # [p-wave velocity, density] for layer 1 (index = 0)\n",
    "                  [2400, 2450],\n",
    "                  [2600, 2650], \n",
    "                  [3500, 2950]])\n",
    "\n",
    "assert np.shape(properties_1)[0] == int(np.max(model_scaled))+1, 'number of properties assigned do not match number of layers'\n",
    "\n",
    "# bring properties into model\n",
    "earth_1 = properties_1[model_scaled] # array shape = rows, cols, properties"
   ]
  },
  {
   "cell_type": "markdown",
   "id": "82c0abe8-4c28-4ed6-8a3f-a236f1e57cac",
   "metadata": {},
   "source": [
    "**QUESTION: calculate the impedances for each layer.**"
   ]
  },
  {
   "cell_type": "code",
   "execution_count": null,
   "id": "18955a74-fd59-45d9-817e-a6335f3b4369",
   "metadata": {},
   "outputs": [],
   "source": [
    "impedances_1 = np.apply_along_axis(np.product, -1, earth_1) # Try and use efficient methods taught instead of for loops!"
   ]
  },
  {
   "cell_type": "code",
   "execution_count": null,
   "id": "c0b96684-cc71-4a4f-8b10-d5f9284dd4cf",
   "metadata": {},
   "outputs": [],
   "source": [
    "plt.imshow(impedances_1, cmap='gray', aspect=1)\n",
    "plt.title('model impedance')\n",
    "plt.ylabel('depth (m) / index')\n",
    "plt.xlabel('trace')\n",
    "plt.colorbar(label = 'impedance')\n",
    "plt.show()"
   ]
  },
  {
   "cell_type": "markdown",
   "id": "71871225-f527-4a3e-b3c0-ba6c43f7f954",
   "metadata": {},
   "source": [
    "**QUESTION: The Gardner relationship is an empirical relationships that predicts density from velocity based on experimental data. The relationship is:** $ \\rho = 0.31 V_p ^ {0.25} $ \n",
    "**Using velocities of 2700 m/s, 2600 m/s, 2400 m/s and 2500 m/s for layers 1,2,3 and 4 respectively calculate acoustic impedance using the Gardner relationship. We will call this \"Wedge model 2\"**"
   ]
  },
  {
   "cell_type": "code",
   "execution_count": null,
   "id": "8106f9f9-6bb6-45b5-8005-0012ec47ed3b",
   "metadata": {},
   "outputs": [],
   "source": [
    "# define p-wave velocity of each section\n",
    "velocities = np.array([2700,2600, 2400,2500])\n",
    "\n",
    "# calculate density based of Gardner relationship\n",
    "def Gardner(vel):\n",
    "    dens = 0.31 * vel **0.25\n",
    "    return dens\n",
    "\n",
    "densities = Gardner(velocities)\n",
    "\n",
    "# restructure array to bring properties into the model\n",
    "properties_2 = np.array(list(zip (velocities, densities)))\n",
    "\n",
    "# bring properties into model\n",
    "earth_2 = properties_2[model_scaled] # array shape = rows, cols, properties\n",
    "impedances_2 = np.apply_along_axis(np.product, -1, earth_2)"
   ]
  },
  {
   "cell_type": "code",
   "execution_count": null,
   "id": "685298ab-84d6-4e60-a0ee-2b56ebfc8883",
   "metadata": {},
   "outputs": [],
   "source": [
    "#visualise\n",
    "plt.imshow(impedances_2, cmap='gray', aspect=1)\n",
    "plt.title('model impedance')\n",
    "plt.ylabel('depth (m) / index')\n",
    "plt.xlabel('trace')\n",
    "plt.colorbar(label = 'impedance')\n",
    "plt.show()"
   ]
  },
  {
   "cell_type": "markdown",
   "id": "1ade00c1-5723-48df-828f-9d6be374bbd9",
   "metadata": {},
   "source": [
    "## 1.3 Reflection coefficients\n",
    "\n",
    "For \"zero-offset\" surveys where sources and receivers are located at the same place we only need to worry about \"normal incidence reflections\". Therefore, we can use the equation: $$ \\text{ Reflection coefficient } = \\frac{\\rho_2 V_2 - \\rho_1 V_1 }{\\rho_2 V_2 + \\rho_1 V_1} $$"
   ]
  },
  {
   "cell_type": "markdown",
   "id": "8ca52f07-d7eb-48ef-a1a7-8662ea9f4bd4",
   "metadata": {},
   "source": [
    "**QUESTION: Can we use the above equation for experiments which involve an offset between sources and receivers? If not, why not? What must we do instead?**"
   ]
  },
  {
   "cell_type": "markdown",
   "id": "4c77023a-defb-4733-9270-305b09e17b3e",
   "metadata": {},
   "source": [
    "[Answer] When P-waves hit an interface obliquely they will split into a reflection P and reflected S wave and a transmitted P and transmitted S. This is because there is a component of shearing which produces an S wave- this doesn’t happen if the P wave hits the horizon at normal incidence (in that case there is no shearing). In order to calculate the amplitude of each of the 4 components (reflected P,S and transmitted P,S) you need to use the more complex Zoeppritz equations. "
   ]
  },
  {
   "cell_type": "markdown",
   "id": "ae0c9fae-a265-46d7-b00b-afa9913fc4d9",
   "metadata": {},
   "source": [
    "**QUESTION: Calculate reflection coefficients for Wedge model 1 and Wedge model 2. output should be a 2D array containing the reflection coefficients. Tip for efficiency, recall how to use array slicing!**"
   ]
  },
  {
   "cell_type": "code",
   "execution_count": null,
   "id": "25117c31-ae01-4c80-87b3-9f8c37b9a2ec",
   "metadata": {},
   "outputs": [],
   "source": [
    "reflection_coeff_1 = (impedances_1[1:,:] - impedances_1[:-1,:]) / (impedances_1[1:,:] + impedances_1[:-1,:]) "
   ]
  },
  {
   "cell_type": "code",
   "execution_count": null,
   "id": "dd791d57-a4f7-455b-9304-b4a36e3edbde",
   "metadata": {},
   "outputs": [],
   "source": [
    "plt.imshow(reflection_coeff_1 ,  cmap='gray', aspect=1)\n",
    "plt.title('model reflection coefficients')\n",
    "plt.ylabel('depth (m) / index')\n",
    "plt.xlabel('trace')\n",
    "plt.colorbar(label = 'reflection coefficient')\n",
    "plt.show()"
   ]
  },
  {
   "cell_type": "markdown",
   "id": "bc593b31-6d25-4513-92a8-5f08c8968f0f",
   "metadata": {},
   "source": [
    "Note that we have derived a variety of physical relationships. We will visualise a vertical profile through the models of acoustic impedance and reflection coefficients to compare them for each wedge model. Try and understand how the parameters relate to each other"
   ]
  },
  {
   "cell_type": "code",
   "execution_count": null,
   "id": "2d6ff6e4-e0b4-4de3-90df-ef0211967609",
   "metadata": {},
   "outputs": [],
   "source": [
    "trace_1 = np.shape(impedances_1)[1]-10\n",
    "\n",
    "fig, ax = plt.subplots(1,3, figsize=(10, 5))\n",
    "\n",
    "ax[0].imshow(impedances_1, cmap='gray')\n",
    "ax[0].axvline(trace_1, c = 'r', label ='transect')\n",
    "ax[0].set(title = 'impedance model', ylabel='depth(m) / index', xlabel = 'trace')\n",
    "ax[0].legend()\n",
    "\n",
    "ax[1].plot(impedances_1[:,trace_1], np.linspace(len(impedances_1), 0, len(impedances_1)))\n",
    "ax[1].set (title = 'impedance', xlabel = 'impedance')\n",
    "ax[1].invert_yaxis()\n",
    "\n",
    "ax[2].plot(reflection_coeff_1[:,trace_1], np.linspace(len(reflection_coeff_1),0,len(reflection_coeff_1)))\n",
    "ax[2].set (title = 'reflection coefficients', xlabel = 'reflection coefficient')\n",
    "ax[2].invert_yaxis()\n",
    "plt.show()"
   ]
  },
  {
   "cell_type": "code",
   "execution_count": null,
   "id": "41870424-ada7-48a3-8ca0-45b475f7f566",
   "metadata": {},
   "outputs": [],
   "source": [
    "reflection_coeff_2 = (impedances_2[1:,:] - impedances_2[:-1,:]) / (impedances_2[1:,:] + impedances_2[:-1,:]) \n",
    "trace_2 = np.shape(impedances_2)[1]-10\n",
    "\n",
    "fig, ax = plt.subplots(1,3, figsize=(10, 5))\n",
    "ax[0].imshow(impedances_2, cmap='gray')\n",
    "ax[0].axvline(trace_2, c = 'r', label ='transect')\n",
    "ax[0].set(title = 'impedance model', ylabel='depth(m) / index', xlabel = 'trace')\n",
    "ax[0].legend()\n",
    "\n",
    "ax[1].plot(impedances_2[:,trace_2], np.linspace(len(impedances_2), 0, len(impedances_2)))\n",
    "ax[1].set (title = 'impedance', xlabel = 'impedance')\n",
    "ax[1].invert_yaxis()\n",
    "\n",
    "ax[2].plot(reflection_coeff_2[:,trace_2], np.linspace(len(reflection_coeff_2),0,len(reflection_coeff_2)))\n",
    "ax[2].set (title = 'reflection coefficients', xlabel = 'reflection coefficient')\n",
    "ax[2].invert_yaxis()\n",
    "plt.show()"
   ]
  },
  {
   "cell_type": "markdown",
   "id": "f5a76b0c-1757-4358-b940-6ba3d6640778",
   "metadata": {
    "tags": []
   },
   "source": [
    "## 1.3 Wavelet phase and frequency\n",
    "\n",
    "When we aquire and process seismic data we would like the source wavelet to be as close as possible to a spike function. In this part of the excercise we will explore the reasons for that.\n",
    "\n",
    "In this section we will use a wavelet library called Bruges to access different types of wavelet [here](https://bruges.readthedocs.io/api/bruges.filters.wavelets.html)"
   ]
  },
  {
   "cell_type": "markdown",
   "id": "52149825-2c1f-4161-ab9c-f2b58c98f7f5",
   "metadata": {},
   "source": [
    "Important note about our proxy model: Typically the wavelets would be described in terms of amplitude over time, however for simplicity we have kept this as a function of amplitude over index/ (which we are using as a proxy for depth (m)). This does lead to very large wavelets, however allows for a large simplification of our notebook. every behaviour observed in the proxy still resembles real seismic sections.\n",
    "\n",
    "First, plot a Ricker wavelet, minimum-phase wavelet and Ormsby wavelet for a dominant frequency of 20, please note that in our proxy model we are not really looking at frequency (1/t) but instead we are looking at some proxy of 1/wavelength! You will explore other wavelengths later."
   ]
  },
  {
   "cell_type": "markdown",
   "id": "d6a0e446-22e9-4cd6-b638-d133a329dbff",
   "metadata": {},
   "source": [
    "### Ricker wavelet\n",
    "\n",
    "As we discussed in the lectures, Ricker wavelets are not physically possible to produce in nature as part of the wavelet occurs at negative time. They are very useful in seismic interpretation because the highest amplitude part of the wavelet is reflected from horizons. Therefore, as a seismic interpreter you pick the peaks and troughs to establish the depth to horizons (rather than having to interpret parts of the wavelet with zero amplitude which would be the case for a minimum phase wavelet). During the seismic processing workflow a deconvolution step involves designing a filter which converts minimum phase wavelets into Ricker wavelets. As mentioned above, for simplicity we are showing the wavelets in terms of depth rather than time in this exercise.\n",
    "\n",
    "some further reading: https://academic.oup.com/gji/article/200/1/111/746485"
   ]
  },
  {
   "cell_type": "code",
   "execution_count": null,
   "id": "34d2eee0-cdd9-4e1b-941e-c62b85738ccb",
   "metadata": {},
   "outputs": [],
   "source": [
    "duration = 0.098\n",
    "dt = 0.002"
   ]
  },
  {
   "cell_type": "code",
   "execution_count": null,
   "id": "4190f993-40d4-41e6-b150-556618bea962",
   "metadata": {},
   "outputs": [],
   "source": [
    "width_inv = 50 # usually we would want this to be frequency, however remember we are just using a proxy\n",
    "\n",
    "#duration and time in our proxy control the total width of our convolving singnal, keep them constant across exercices!\n",
    "ricker, t = bruges.filters.ricker(duration=duration, dt=dt, f=width_inv, return_t = True, sym=False) \n",
    "\n",
    "#plt.plot(t, ricker) # theoretically we would want to plot this as a function of time, but due to our proxy not being \n",
    "#transformed into a time slice and intepolated we will use indexes as a proxy for depth\n",
    "plt.plot(ricker)\n",
    "plt.xlabel('index / depth(m)')\n",
    "plt.show()"
   ]
  },
  {
   "cell_type": "markdown",
   "id": "6c9d072a-4ea5-42b3-88d4-e2bbb88d2788",
   "metadata": {},
   "source": [
    "we could use padding to convolve a wavelet of a negative time domain into our model, however since this is not possible in reality as mentioned prior we have opted for a simpler proxy. We convolve half the wavelet, this would replicate the shift seen in where we see the geological boundaries maximum amplitude, at the expense however of loosing part of the negative component of the wavelet."
   ]
  },
  {
   "cell_type": "code",
   "execution_count": null,
   "id": "0894db35-c61a-4972-a477-fd8a477234bf",
   "metadata": {},
   "outputs": [],
   "source": [
    "width_inv = 20\n",
    "ricker_shift, t = bruges.filters.ricker(duration=duration, dt=dt, f=width_inv, return_t = True, sym=False)\n",
    "ricker_shift = ricker_shift[int(len(ricker_shift)/2):] #this shift/cut is made to resemble the shift we would using typical ricker wavelet with negative time\n",
    "plt.plot(ricker_shift)\n",
    "plt.xlabel('depth(m) / index')\n",
    "plt.show()"
   ]
  },
  {
   "cell_type": "markdown",
   "id": "3f66d4bf-43cb-4e81-8503-35cb31208e01",
   "metadata": {},
   "source": [
    "### minimum-phase wavelet\n",
    "\n",
    "**Question: design your own version of a minimum-phase wavelet, make sure you can tweak the wavelength (frequency proxy)**\n",
    "\n",
    "A minimum phase wavelet requires to start at time zero with zero amplitude."
   ]
  },
  {
   "cell_type": "code",
   "execution_count": null,
   "id": "3cfe91fe-6909-467e-a473-19177fd59a74",
   "metadata": {},
   "outputs": [],
   "source": [
    "width_inv = 20\n",
    "t = 1/ width_inv\n",
    "\n",
    "time = np.linspace(0,duration, int(duration/dt))\n",
    "\n",
    "# create your own zero-phase wavelet\n",
    "zero_phase = np.sin( (width_inv)*6 * time)\n",
    "zero_phase[np.where(time >= t)[0][0]:] = 0\n",
    "\n",
    "plt.plot(zero_phase)\n",
    "plt.xlabel('depth(m) / index')\n",
    "plt.show()"
   ]
  },
  {
   "cell_type": "markdown",
   "id": "005ed159-cb70-4fd7-9516-a6efa353d1d1",
   "metadata": {},
   "source": [
    "### Ormsby wavelet\n",
    "\n",
    "**QUESTION: Look into the references documentation ([see here](https://bruges.readthedocs.io/api/bruges.filters.wavelets.html)) and create an ormsby wavelet**"
   ]
  },
  {
   "cell_type": "code",
   "execution_count": null,
   "id": "84618804-7ae3-4374-96a6-0309eff658d7",
   "metadata": {},
   "outputs": [],
   "source": [
    "inv_width = [60, 70, 80, 90]\n",
    "ormsby, t = bruges.filters.wavelets.ormsby(duration=duration, dt=dt, f=inv_width, return_t = True, sym=True)\n",
    "plt.plot(ormsby)\n",
    "plt.xlabel('depth(m) / index')\n",
    "plt.show()"
   ]
  },
  {
   "cell_type": "markdown",
   "id": "50207073-2900-4fe9-9d95-14d8bfab8f16",
   "metadata": {},
   "source": [
    "These wavelets we shall label as $W(z)$"
   ]
  },
  {
   "cell_type": "markdown",
   "id": "66e4e0d7-9d61-4952-bce8-7985244ec811",
   "metadata": {},
   "source": [
    "## 1.4 Convolution to produce 2D synthetic seismic section\n",
    "\n",
    "In this section we will take our source wavelet from section 1.3 and convolve it with the reflection coefficients in section 1.2 for Wedge models 1 and 2. Effectively, we are imagining that we have sources and receivers at the same place all the way along the section and are detecting the normal-incidence reflections from directly beneath the source/receiver pairs. \n",
    "\n",
    "\n",
    "**QUESTION: If we simply do a convolution of the source wavelet and reflection coefficient profiles along the section what real-world effects are we missing?**"
   ]
  },
  {
   "cell_type": "markdown",
   "id": "1bc82c0f-1d31-474a-b9e8-6ad404c859fc",
   "metadata": {},
   "source": [
    "[Answer] We are ignoring amplitude decay due to spherical divergence (also called geometric spreading) and attenuation due to absorption and scattering"
   ]
  },
  {
   "cell_type": "markdown",
   "id": "d2bb2d1a-4514-4210-9bc6-8ee26f436871",
   "metadata": {},
   "source": [
    "We will first produce a 2D synthetic seismic section for Wedge model 1 using the different wavelets. Please note that there is a large limitation in our proxy model in that the wavelet is convolving as a function of index/depth instead of actual time. Hence the wavelength size we are using currently is very large, however it demonstarte the behaviour well."
   ]
  },
  {
   "cell_type": "code",
   "execution_count": null,
   "id": "019f2e43-0fd1-4d11-90c9-d31c7b87d48e",
   "metadata": {},
   "outputs": [],
   "source": [
    "# convolve\n",
    "synth = np.array([np.apply_along_axis(lambda t: np.convolve(t, ricker, mode='same'), axis=0,\n",
    "                             arr= reflection_coeff_1)])\n",
    "\n",
    "plt.imshow(synth[0], cmap='gray', aspect=1)\n",
    "plt.title('seismic models')\n",
    "plt.ylabel('depth(m) / index')\n",
    "plt.show()\n",
    "\n",
    "# convolve\n",
    "synth_phase = np.array([np.apply_along_axis(lambda t: np.convolve(t, zero_phase, mode='same'), axis=0,\n",
    "                             arr= reflection_coeff_1)])\n",
    "\n",
    "plt.imshow(synth_phase[0], cmap='gray', aspect=1)\n",
    "plt.ylabel('depth(m) / index')\n",
    "plt.show()\n",
    "\n",
    "#convolve\n",
    "synth_ormsby = np.array([np.apply_along_axis(lambda t: np.convolve(t, ormsby, mode='same'), axis=0,\n",
    "                             arr= reflection_coeff_1)])\n",
    "\n",
    "plt.imshow(synth_ormsby[0], cmap='gray', aspect=1)\n",
    "plt.ylabel('depth(m) / index')\n",
    "plt.xlabel('trace')\n",
    "plt.show()"
   ]
  },
  {
   "cell_type": "markdown",
   "id": "0a38ea38-34a4-4b85-a2c5-874a4a5d5cd9",
   "metadata": {},
   "source": [
    "the data output of this section can be mathematically seen as the convolution of our earth model with our produced wavelet:\n",
    "\n",
    "$$ D(z) =  W(z) * E(z)$$\n",
    "\n",
    "An individual trace below shows this convolution visually"
   ]
  },
  {
   "cell_type": "code",
   "execution_count": null,
   "id": "4cb6ed97-4f26-469c-97fe-f94897bed697",
   "metadata": {},
   "outputs": [],
   "source": [
    "trace_1 = np.shape(impedances_1)[1]-10\n",
    "\n",
    "fig, ax = plt.subplots(1,3, figsize=(15, 5))\n",
    "trace = 20 # could implement trace as slider if we think this would be useful\n",
    "ax[0].plot(reflection_coeff_1[:,trace_1], np.linspace(len(reflection_coeff_1), 0, len(reflection_coeff_1)))\n",
    "ax[0].set (title = 'reflection coefficients', ylabel='depth (m) / index')\n",
    "ax[1].plot(ricker,np.linspace(len(ricker), 0, len(ricker)) )\n",
    "ax[1].set (title = 'input pulse')\n",
    "ax[2].plot(synth[0,:,trace_1], np.linspace(len(synth[0,:,trace_1]), 0, len(synth[0,:,trace_1])))\n",
    "ax[2].set (title = 'convolution')\n",
    "ax[0].text(0.323, 45, '*', size=30)\n",
    "ax[1].text(1.1, 22.5, '=', size=30)\n",
    "plt.show()"
   ]
  },
  {
   "cell_type": "markdown",
   "id": "c42a7283-72e5-47d7-948c-f7d24985fe55",
   "metadata": {},
   "source": [
    "**QUESTION: Repeat the exercise above this time using Wedge model 2. What are the key differences you note in the seismic reflection sections produced?**\n",
    "\n",
    "**What is the thickness of the thinnest part of the wedge for which the top and base can be clearly imaged?**"
   ]
  },
  {
   "cell_type": "markdown",
   "id": "be2213b5-b438-4b23-a669-aebb76c261c8",
   "metadata": {},
   "source": [
    "[answers]\n",
    "- The key here really lies in understanding the reflection coefficients behaviour pre and post convolution between the two models"
   ]
  },
  {
   "cell_type": "markdown",
   "id": "697dc295-02cd-438f-9301-e23f52fa1481",
   "metadata": {},
   "source": [
    "**QUESTION: Now explore how the seismic section differs for Ricker wavelets of different wavelength and different types of wavelet (e.g. minimum phase, ormsby). Explain your findings below.**\n",
    "\n",
    "**Which wavelet best characterises the original geological model?**"
   ]
  },
  {
   "cell_type": "markdown",
   "id": "7ce90e94-d5a1-46a6-a913-0b714865a483",
   "metadata": {},
   "source": [
    "[answers]\n",
    "- providing a wider input wavelet will reduce the resolution of our model, we require higher smaller-wavelets (higher frequencies) to obtain better resolutions\n",
    "- wavelets that start with a peak amplitude will show boundaries at the correct depth, others will shift the position of where we visually see the horizon\n",
    "- the more the wavelet looks like a spike the clearer the boundary is defined, the ormsby wavelet is very poor in this regard but represents a much more real signal "
   ]
  },
  {
   "cell_type": "markdown",
   "id": "7616435c-0687-4a04-acf7-8fbadd9762bc",
   "metadata": {},
   "source": [
    "# 1.5 attenuation and noise"
   ]
  },
  {
   "cell_type": "markdown",
   "id": "edf68ed1-41ba-4d13-8757-7f958106847d",
   "metadata": {},
   "source": [
    "If you think about this carefully we have essentially done a proxy of the opposite process that we would aim to do in the field. Here we have created our data whereas in the field the data is our input. In reality we would aim to take the inverse of this process to recover the original Earth Model. With our very simplified model above this is not very difficult however in reality, there are many factors that will affect the amplitude and frequency of reflections. Some of these affects can be corrected for during processing (e.g. spherical divergence) and some of them are unknown (e.g. absorption). \n",
    "\n",
    "In this section we explore the affect that spherical divergence and absorption will have on seismic reflection images. "
   ]
  },
  {
   "cell_type": "markdown",
   "id": "d5cd8c2e-5d6c-428b-bcf3-055b0293e973",
   "metadata": {},
   "source": [
    "### 1.5.1 Spherical divergence\n",
    "\n",
    "As seismic waves travel their amplitude decrease by 1/r, so the amplitude of reflections is actually lower than predicted in the example above which only considers amplitude changes related to reflection coefficient. One of the relatively early steps in seismic data processing is to remove this affect by doing the reverse of the calculation below. "
   ]
  },
  {
   "cell_type": "code",
   "execution_count": null,
   "id": "1acab5e8-26c4-46b8-a538-24ad6d6c0da2",
   "metadata": {},
   "outputs": [],
   "source": [
    "out = np.convolve(reflection_coeff_1[:,trace_1], ricker, mode='same') # take/create seismic trace\n",
    "decay = np.linspace(1,0,len(out)) #linear decay, can vary this if we like\n",
    "plt.plot(out, label='original signal')\n",
    "plt.plot(out*decay, label='accounting for energy loss') # apply predicted/alculatecd decay to the trace\n",
    "plt.legend()\n",
    "plt.show()"
   ]
  },
  {
   "cell_type": "markdown",
   "id": "bb3d2206-fbec-4b89-9589-462a9ab61289",
   "metadata": {},
   "source": [
    "Note that these examples just act as a proxy to the real world, the underpinning physical relationships could be brought in through the use of tuning parameters. \n",
    "\n",
    "In mathematical terms we are now convolving an additional factor that accounts for a loss of energy in our model. Approaching a real model one step more."
   ]
  },
  {
   "cell_type": "markdown",
   "id": "7e58af45-17fb-4a53-ade8-d4d901f301ba",
   "metadata": {},
   "source": [
    "### 1.5.2. Absorption, advanced/optional exercice\n",
    "\n",
    "As seismic waves travel the high-frequency components which have shorter wavelengths are more readily absorbed and scattered. Therefore, as a seismic wave travels it's dominant frequency reduces. This affect is difficult to calculate as it will depend on the properties of the rock. In this example we are using a simple function to simulate frequency decrease with depth. "
   ]
  },
  {
   "cell_type": "code",
   "execution_count": null,
   "id": "2374262f-1ee3-45b1-aa1a-23fdabc4c7ed",
   "metadata": {},
   "outputs": [],
   "source": [
    "# reducing wavelengths as a function of depth\n",
    "hz = 70\n",
    "wave_decay = []\n",
    "for z in np.linspace(1,0,int(np.shape(reflection_coeff_1)[0])):\n",
    "    ws, t = bruges.filters.ricker(duration=0.098, dt=0.002, f=hz*z, return_t = True, sym = True);\n",
    "    wave_decay.append(ws)\n",
    "    plt.plot(ws)\n",
    "plt.show()"
   ]
  },
  {
   "cell_type": "markdown",
   "id": "1f8a9b60-177d-4cd6-98ba-2af7ac83b1d4",
   "metadata": {},
   "source": [
    "**EXTENSION QUESTION: Now we want to convolve a wavelet that is a function of depth with our traces. Feel free to attempt this yourself first. One method of achieving this is writing our own convolution function.** "
   ]
  },
  {
   "cell_type": "code",
   "execution_count": null,
   "id": "8f871486-7182-4f35-a99a-132324cb91ed",
   "metadata": {},
   "outputs": [],
   "source": [
    "# accounting for frequency decay during convolution\n",
    "\n",
    "# create zero padding above depth zero of half kernel size to maintain constant array output size\n",
    "padding = np.zeros((np.shape(reflection_coeff_1)[0] + int(len(wave_decay[0])/2), np.shape(reflection_coeff_1)[1]))\n",
    "padding[int(len(wave_decay[0])/2):, :] = reflection_coeff_1\n",
    "synthetic = []\n",
    "\n",
    "for trace in range(np.shape(reflection_coeff_1)[1]): #iterate over every trace\n",
    "    convolved = [] # clean at each step\n",
    "    for depth in range(np.shape(reflection_coeff_1)[0] - int(len(wave_decay[0])/2)): # iterate in depth direction across each trace\n",
    "        inv_kernel = wave_decay[depth] # no need to inverse arr[::-1] as its symmetric\n",
    "        convolved.append(np.sum(padding[depth: depth+len(inv_kernel), trace] * inv_kernel))\n",
    "    synthetic.append(convolved)\n",
    "    \n",
    "#check size of output array\n",
    "synthetic = np.array(synthetic)\n",
    "\n",
    "plt.imshow(synthetic.T, cmap = 'gray')\n",
    "plt.show()"
   ]
  },
  {
   "cell_type": "markdown",
   "id": "00289771-c859-4729-8e03-4e4243d85afe",
   "metadata": {},
   "source": [
    "### 1.5.3. Noise\n",
    "\n",
    "In addition to the factors above incoherent noise ($N(z)$) will inevitably exist in seismic reflection images even after processing. Here we add incoherent noise to add realism to the seismic section. The mathetematical model for this would be: \n",
    "\n",
    "$$ D(z) = W(z) * E(z)  + N(z) $$"
   ]
  },
  {
   "cell_type": "code",
   "execution_count": null,
   "id": "15a0b1d6-4dd6-43e8-877d-65deac9ef22f",
   "metadata": {},
   "outputs": [],
   "source": [
    "blurred = sp.ndimage.gaussian_filter(synth, sigma=1.1)\n",
    "noisy = blurred + 0.5 * blurred.std() * np.random.random(blurred.shape)\n",
    "\n",
    "#show\n",
    "plt.imshow(noisy[0], cmap='gray', aspect=1)\n",
    "plt.show()"
   ]
  },
  {
   "cell_type": "markdown",
   "id": "0be40dd8-219a-444e-afda-62e2c7ef5ac3",
   "metadata": {},
   "source": [
    "This is still a very simplistic model, in the real world the function is much more complex when trying to extract the original Earth Model from the Data. For instance the convolution wavelet $W(z)$ consists of a variety of components itself, between many:\n",
    "- source ghost\n",
    "- receiver response\n",
    "- intrument response\n",
    "- receiver ghost"
   ]
  },
  {
   "cell_type": "markdown",
   "id": "edd80c4a-b245-4e98-9df5-5cd19c06b760",
   "metadata": {},
   "source": [
    "## 1.6 Challenge- imaging thin channels in an area of wind-turbine installation\n",
    "\n",
    "You work for a contractor who are going to collect some seismic data in a region of wind-turbine installation. Preliminary assessments have involved drilling a series of boreholes to characterise the subsurface and from this a 2D geological model has been developed (channels.png). This model includes thin, low-velocity channels with a thickness of 5 m buried at a depth of 50 m. \n",
    "\n",
    "**Question: Using the relationships learned in the lecture what type of source will use to do this survey if we want to resolve the channels**\n",
    "\n",
    "some lecture notes worth remembering:\n",
    "- maximum vertical resolution is 1/4 of the dominant wavelength of the pulse (Rayleigh Criterion), $ \\frac{1}{4} \\lambda$\n",
    "- absolute horizontal resolution -> smallest object that can be resolved wihtout migration-> $ width = \\sqrt{\\frac{ z * \\lambda}{2}}    $"
   ]
  },
  {
   "cell_type": "markdown",
   "id": "14191fa1-527f-451b-a6a5-e401ddaead95",
   "metadata": {},
   "source": [
    "If we want to resolve 5 m in rocks with $V_p$ around 2500 m/s we need a wavelength of 20 m minimum, therefore $ f = \\frac{v}{\\lambda} = \\frac{2500}{20} = 125 Hz$ . You could actually use airguns for this"
   ]
  },
  {
   "cell_type": "markdown",
   "id": "ce33f962-40a7-46ad-b986-e957a3b8a836",
   "metadata": {},
   "source": [
    "**Question: Using everything you have learned in this section simulate a seismic section for which we can resolve both the top and base of the channels and identify when they start to disappear**"
   ]
  },
  {
   "cell_type": "code",
   "execution_count": null,
   "id": "579b5386-b4a5-4251-8820-dc87ee97d56c",
   "metadata": {},
   "outputs": [],
   "source": [
    "# user defined parameters\n",
    "properties_ = np.array([[2700, 2750],  # p-wave velocity, denisty for layer 1\n",
    "                  [2400, 2450],\n",
    "                  [2600, 2650], \n",
    "                  [2500, 2550]])\n",
    "hz = 10\n",
    "\n",
    "# processing\n",
    "img_ = seis.read_img('channel.png')\n",
    "model_bound_ = label(img_) #identify each section\n",
    "model_ = seis.remove_bounds(model_bound_)\n",
    "model_ = sp.ndimage.zoom(model_, 1/(np.shape(model_)[0]/100), order=0)\n",
    "earth_ = properties_[model_]\n",
    "impedances_ = np.apply_along_axis(np.product, -1, earth_)\n",
    "reflection_coeff_ = (impedances_[1:,:] - impedances_[:-1,:]) / (impedances_[1:,:] + impedances_[:-1,:])\n",
    "ws = bruges.filters.ricker(duration=0.098, dt=0.002, f=hz, return_t = False);\n",
    "synth = np.array([np.apply_along_axis(lambda t: np.convolve(t, ws, mode='same'), axis=0,\n",
    "                             arr= reflection_coeff_)])\n",
    "blurred = sp.ndimage.gaussian_filter(synth, sigma=1.1)\n",
    "noisy = blurred + 0.5 * blurred.std() * np.random.random(blurred.shape)\n",
    "\n",
    "#show\n",
    "plt.imshow(noisy[0], cmap='gray', aspect=1)\n",
    "plt.show()"
   ]
  },
  {
   "cell_type": "markdown",
   "id": "19b91423-c3b8-4645-8e7f-98d620814a38",
   "metadata": {},
   "source": [
    "**Challenge. Try and account for attenuation and noise in the model**"
   ]
  },
  {
   "cell_type": "code",
   "execution_count": null,
   "id": "852fb82b-6509-4097-bd6e-36e41ddbcd92",
   "metadata": {},
   "outputs": [],
   "source": []
  },
  {
   "cell_type": "markdown",
   "id": "457b1ffe-13c0-4bd8-be9c-93eae6987dff",
   "metadata": {},
   "source": [
    "## Questions\n",
    "\n",
    "We will take 20 minutes at the end of the class to cover any major questions or problems that have come up. You are encouraged to to ask the GTAs and lecturers during the class, however you can always post them on here as well: https://www.menti.com/qia9zs2e5x\n"
   ]
  },
  {
   "cell_type": "markdown",
   "id": "85021d98-0911-420b-8432-d94dbe00f8a8",
   "metadata": {},
   "source": [
    "## References:\n",
    "\n",
    "- https://library.seg.org/doi/full/10.1190/tle33060674\n",
    "- https://mycarta.wordpress.com/2017/10/01/making-many-synthetic-seismic-models-in-python/\n",
    "- https://bruges.readthedocs.io/api/bruges.filters.wavelets.html"
   ]
  }
 ],
 "metadata": {
  "kernelspec": {
   "display_name": "Python 3 (ipykernel)",
   "language": "python",
   "name": "python3"
  },
  "language_info": {
   "codemirror_mode": {
    "name": "ipython",
    "version": 3
   },
   "file_extension": ".py",
   "mimetype": "text/x-python",
   "name": "python",
   "nbconvert_exporter": "python",
   "pygments_lexer": "ipython3",
   "version": "3.7.11"
  }
 },
 "nbformat": 4,
 "nbformat_minor": 5
}
